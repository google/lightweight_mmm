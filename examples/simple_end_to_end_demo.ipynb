{
  "cells": [
    {
      "cell_type": "markdown",
      "metadata": {
        "id": "x1LyGCNZhWBH"
      },
      "source": [
        ":<table class=\"tfo-notebook-buttons\" align=\"left\">\n",
        "  <td>\n",
        "    <a target=\"_blank\" href=\"https://colab.research.google.com/github/google/lightweight_mmm/blob/main/examples/simple_end_to_end_demo.ipynb\"><img src=\"https://www.tensorflow.org/images/colab_logo_32px.png\" />Run in Google Colab</a>\n",
        "  </td>\n",
        "  <td>\n",
        "    <a target=\"_blank\" href=\"https://github.com/google/lightweight_mmm/blob/main/examples/simple_end_to_end_demo.ipynb\"><img src=\"https://www.tensorflow.org/images/GitHub-Mark-32px.png\" />View source on GitHub</a>\n",
        "  </td>\n",
        "</table>"
      ]
    },
    {
      "cell_type": "markdown",
      "metadata": {
        "id": "AEdi78qH1Jhq"
      },
      "source": [
        "# Simple End to End Demo"
      ]
    },
    {
      "cell_type": "markdown",
      "metadata": {
        "id": "Kz-eYQ7TKVG9"
      },
      "source": [
        "Welcome to the end to end demo of LightweigthMMM. This is a very simple demo in \n",
        "which we showcase the basic usage and functionalities of the library."
      ]
    },
    {
      "cell_type": "markdown",
      "metadata": {
        "id": "gmrJXoY2PlKI"
      },
      "source": [
        "Disclaimer: This notebooks skips all exploratory data analysis and preprocessing (besides scaling) and assumes the user will do or has done it prior to engaging this point of the demo.\n",
        "\n",
        "This notebook uses dummy data and therefore the numbers and results might not be representative of what one might get on a real dataset."
      ]
    },
    {
      "cell_type": "markdown",
      "metadata": {
        "id": "WmpDBp6dusp0"
      },
      "source": [
        "For running chains in parallel you can set the number of CPUs at the begining of the program like the following:\n",
        "`numpyro.set_host_device_count(n)`"
      ]
    },
    {
      "cell_type": "code",
      "execution_count": null,
      "metadata": {
        "id": "afF7ZlEz37eC"
      },
      "outputs": [],
      "source": [
        "# Import jax.numpy and any other library we might need.\n",
        "import jax.numpy as jnp\n",
        "import numpyro"
      ]
    },
    {
      "cell_type": "code",
      "execution_count": null,
      "metadata": {
        "id": "EmkFKiQjZ7kC"
      },
      "outputs": [],
      "source": [
        "# First would be to install lightweight_mmm\n",
        "!pip install --upgrade git+https://github.com/google/lightweight_mmm.git"
      ]
    },
    {
      "cell_type": "code",
      "execution_count": null,
      "metadata": {
        "id": "Ltk-rB9y-_fh"
      },
      "outputs": [],
      "source": [
        "# Import the relevant modules of the library\n",
        "from lightweight_mmm import lightweight_mmm\n",
        "from lightweight_mmm import optimize_media\n",
        "from lightweight_mmm import plot\n",
        "from lightweight_mmm import preprocessing\n",
        "from lightweight_mmm import utils"
      ]
    },
    {
      "cell_type": "markdown",
      "metadata": {
        "id": "lGa5iPF4zdOo"
      },
      "source": [
        "## Organising the data for modelling"
      ]
    },
    {
      "cell_type": "code",
      "execution_count": null,
      "metadata": {
        "id": "AF0gS72Hhwml"
      },
      "outputs": [],
      "source": [
        "SEED = 105\n",
        "N_CHAINS = 2\n",
        "# numpyro.set_host_device_count(N_CHAINS)"
      ]
    },
    {
      "cell_type": "code",
      "execution_count": null,
      "metadata": {
        "id": "R6oDCH5w4M_y"
      },
      "outputs": [],
      "source": [
        "data_size = 104 + 13\n",
        "n_media_channels = 3\n",
        "n_extra_features = 1"
      ]
    },
    {
      "cell_type": "code",
      "execution_count": null,
      "metadata": {
        "id": "kOq-mfJO4QVP"
      },
      "outputs": [],
      "source": [
        "media_data, extra_features, target, costs = utils.simulate_dummy_data(\n",
        "    data_size=data_size,\n",
        "    n_media_channels=n_media_channels,\n",
        "    n_extra_features=n_extra_features)"
      ]
    },
    {
      "cell_type": "markdown",
      "metadata": {
        "id": "58yFB05A4e0j"
      },
      "source": [
        "We can then split the dataset into train and test. Lets leave only the last 13 weeks for testing in this case."
      ]
    },
    {
      "cell_type": "code",
      "execution_count": null,
      "metadata": {
        "id": "xMMKo3fK4UN4"
      },
      "outputs": [],
      "source": [
        "# Split and scale data.\n",
        "split_point = data_size - 13\n",
        "# Media data\n",
        "media_data_train = media_data[:split_point, ...]\n",
        "media_data_test = media_data[split_point:, ...]\n",
        "# Extra features\n",
        "extra_features_train = extra_features[:split_point, ...]\n",
        "extra_features_test = extra_features[split_point:, ...]\n",
        "# Target\n",
        "target_train = target[:split_point]"
      ]
    },
    {
      "cell_type": "markdown",
      "metadata": {
        "id": "A0pZBcF14lPV"
      },
      "source": [
        "Scaling is essential for many modelling problems and this one is no exception.\n",
        "\n",
        "We provide the class `CustomScaler` which behaves accordingly with `sklearn`\n",
        "scalers.\n",
        "\n",
        "In most cases you will need 3 or 4 scalers. One scaler for the media data, one\n",
        "for the target and one for costs. Optionally if you are adding extra features\n",
        "those might need an extra scaler. **It is very important that you save and\n",
        "\"carry with you\" those scalers throughout your MMM journey as LighweightMMM will\n",
        "allow you to re-insert these scalers at different points to ensure everything is\n",
        "always in the correct scale and results. If some results don't make sense, it\n",
        "might be a scaling problem.**"
      ]
    },
    {
      "cell_type": "markdown",
      "metadata": {
        "id": "tGAjohQH4qCO"
      },
      "source": [
        "A few more details on CustomScaler usage:\n",
        "\n",
        "This scaler can be used in two fashions for both the multiplication and division\n",
        "operation. \n",
        "- By specifying a value to use for the scaling operation. \n",
        "- By specifying an operation used at column level to calculate the value for the\n",
        "actual scaling operation.\n",
        "\n",
        "Eg. if one wants to scale the dataset by multiply by 100 you can directly pass\n",
        "multiply_by=100. Value can also be an array with as many values as column has\n",
        "the data being scaled. But if you want to multiply by the mean value of each\n",
        "column, then you can pass multiply_operation=jnp.mean (or any other operation\n",
        "desired).\n",
        "\n",
        "Operation parameters have the upper hand in the cases where both values and\n",
        "operations are passed, values will be ignored in this case.\n",
        "\n",
        "Consult the full class documentation if you still need to know more."
      ]
    },
    {
      "cell_type": "code",
      "execution_count": null,
      "metadata": {
        "id": "B-19ZTfx4uh5"
      },
      "outputs": [],
      "source": [
        "media_scaler = preprocessing.CustomScaler(divide_operation=jnp.mean)\n",
        "extra_features_scaler = preprocessing.CustomScaler(divide_operation=jnp.mean)\n",
        "target_scaler = preprocessing.CustomScaler(divide_operation=jnp.mean)\n",
        "cost_scaler = preprocessing.CustomScaler(divide_operation=jnp.mean)\n",
        "\n",
        "media_data_train = media_scaler.fit_transform(media_data_train)\n",
        "extra_features_train = extra_features_scaler.fit_transform(extra_features_train)\n",
        "target_train = target_scaler.fit_transform(target_train)\n",
        "costs = cost_scaler.fit_transform(costs)"
      ]
    },
    {
      "cell_type": "markdown",
      "metadata": {
        "id": "eiJBiIjVJ4h9"
      },
      "source": [
        "### Training the model"
      ]
    },
    {
      "cell_type": "markdown",
      "metadata": {
        "id": "RNiMpZSjJ8KF"
      },
      "source": [
        "The currently available models are the following: \n",
        "- hill_adstock \n",
        "- adstock \n",
        "- carryover"
      ]
    },
    {
      "cell_type": "code",
      "execution_count": null,
      "metadata": {
        "id": "nTmDycd3J-Iw"
      },
      "outputs": [],
      "source": [
        "mmm = lightweight_mmm.LightweightMMM(model_name=\"carryover\")"
      ]
    },
    {
      "cell_type": "markdown",
      "metadata": {
        "id": "S2XCraqXKA7B"
      },
      "source": [
        "Training the model will require the following mandatory parameters: \n",
        "- media\n",
        "- total_costs (one value per channel) \n",
        "- target\n",
        "\n",
        "We can optionally also pass the following: \n",
        "- extra_features: Other variables to add to the model. \n",
        "- degrees_seasonality: Number of degrees to use for seasonality. Default is 3. \n",
        "- seasonality_frequency: Frequency of the time period used. Default is 52 as in 52 weeks per year. \n",
        "- media_names: Names of the media channels passed. \n",
        "- number_warmup: Number of warm up samples. Default is 1000. \n",
        "- number_samples: Number of samples during sampling. Default is 1000. \n",
        "- number_chains: Number of chains to sample. Default is 2."
      ]
    },
    {
      "cell_type": "code",
      "execution_count": null,
      "metadata": {
        "id": "aza-wH0N2d52"
      },
      "outputs": [],
      "source": [
        "number_warmup=2000\n",
        "number_samples=2000"
      ]
    },
    {
      "cell_type": "code",
      "execution_count": null,
      "metadata": {
        "colab": {
          "height": 81,
          "referenced_widgets": [
            "d285fb32d6064955b74af1c378a3cca8",
            "f9512e7997f44bd2b0234b8c399051fe",
            "c8eaec1f54f44515a8a2321a6b5bb7eb",
            "342fc81c019a412a9eb4227f7b7b7626",
            "64376ebe3b1c4002b1147e07068f2f75",
            "9603d992cfcb4c28be305aa639d9adc9",
            "5e2afd0acd5646b396a1f6aaa75f523a",
            "c059c186b0ea4d98860fe5b2f8a2c5d3",
            "a2aaa7d98ebb43d1bc4388094c118b29",
            "05948567a6d6467681fa2acbd7acccf6",
            "fe400cd9f1b0474896d0e326c0d9b8d0",
            "e5842155739743faae98755e9c30200f",
            "86f43ee3569c4badab6821395c37cae1",
            "e9ac0be3f3b840dcbcf850a6232d9958",
            "3287685d261d4801a2a91b46f6f0b497",
            "ac358068a930465c999f770187ecf097",
            "499a74a0c9e4441f932a30632166be87",
            "b671839e7bdb43269994664e676a2d54",
            "8924548fb6af4e29a7319b42c2625537",
            "de62fc6e90174df6a964a747f6705a84",
            "a4915535949b430e959bbd6297dec432",
            "0e6e3eb825614bd4afb67f42e83f5316"
          ]
        },
        "executionInfo": {
          "elapsed": 174632,
          "status": "ok",
          "timestamp": 1645778991085,
          "user": {
            "displayName": "",
            "photoUrl": "",
            "userId": ""
          },
          "user_tz": 0
        },
        "id": "FtVwGQITKDQp",
        "outputId": "eccc0190-d1dd-48d9-f02c-39764347a054"
      },
      "outputs": [
        {
          "data": {
            "application/vnd.jupyter.widget-view+json": {
              "model_id": "d285fb32d6064955b74af1c378a3cca8",
              "version_major": 2,
              "version_minor": 0
            },
            "text/plain": [
              "  0%|          | 0/2000 [00:00\u003c?, ?it/s]"
            ]
          },
          "metadata": {},
          "output_type": "display_data"
        },
        {
          "data": {
            "application/vnd.jupyter.widget-view+json": {
              "model_id": "e5842155739743faae98755e9c30200f",
              "version_major": 2,
              "version_minor": 0
            },
            "text/plain": [
              "  0%|          | 0/2000 [00:00\u003c?, ?it/s]"
            ]
          },
          "metadata": {},
          "output_type": "display_data"
        }
      ],
      "source": [
        "# For replicability in terms of random number generation in sampling\n",
        "# reuse the same seed for different trainings.\n",
        "mmm.fit(\n",
        "    media=media_data_train,\n",
        "    total_costs=costs,\n",
        "    target=target_train,\n",
        "    extra_features=extra_features_train,\n",
        "    number_warmup=number_warmup,\n",
        "    number_samples=number_samples,\n",
        "    number_chains=N_CHAINS,\n",
        "    seed=SEED)"
      ]
    },
    {
      "cell_type": "markdown",
      "metadata": {
        "id": "Qwwi7E61KKdL"
      },
      "source": [
        "You can check the summary of your trace by printing a summary:"
      ]
    },
    {
      "cell_type": "code",
      "execution_count": null,
      "metadata": {
        "executionInfo": {
          "elapsed": 80,
          "status": "ok",
          "timestamp": 1645778991306,
          "user": {
            "displayName": "",
            "photoUrl": "",
            "userId": ""
          },
          "user_tz": 0
        },
        "id": "sJUiM-1vKMt_",
        "outputId": "e823bd66-479b-4850-ee17-7cfd5127672e"
      },
      "outputs": [
        {
          "name": "stdout",
          "output_type": "stream",
          "text": [
            "\n",
            "                                 mean       std    median      5.0%     95.0%     n_eff     r_hat\n",
            "ad_effect_retention_rate[0]      0.31      0.17      0.31      0.04      0.58    559.22      1.00\n",
            "ad_effect_retention_rate[1]      0.44      0.29      0.42      0.00      0.88    528.17      1.00\n",
            "ad_effect_retention_rate[2]      0.30      0.21      0.27      0.00      0.59    357.80      1.01\n",
            "     beta_extra_features[0]     -0.04      0.01     -0.04     -0.07     -0.02    634.80      1.01\n",
            "              beta_media[0]      0.15      0.05      0.15      0.07      0.24    343.23      1.00\n",
            "              beta_media[1]      0.02      0.02      0.01      0.00      0.04    682.32      1.00\n",
            "              beta_media[2]      0.10      0.05      0.10      0.01      0.16    193.50      1.01\n",
            "                 beta_trend     -0.00      0.00     -0.00     -0.00      0.00    682.73      1.00\n",
            "                 expo_trend      0.15      0.15      0.09      0.00      0.34    432.14      1.00\n",
            "                exponent[0]      0.91      0.09      0.93      0.78      1.00    525.33      1.00\n",
            "                exponent[1]      0.90      0.10      0.93      0.77      1.00    659.56      1.00\n",
            "                exponent[2]      0.89      0.09      0.92      0.77      1.00    849.09      1.00\n",
            "     gamma_seasonality[0,0]      0.07      1.00      0.07     -1.55      1.77    572.36      1.00\n",
            "     gamma_seasonality[0,1]      0.19      0.87      0.20     -1.18      1.62    265.51      1.00\n",
            "     gamma_seasonality[1,0]     -0.02      0.00     -0.02     -0.02     -0.01    672.19      1.00\n",
            "     gamma_seasonality[1,1]     -0.00      0.00     -0.00     -0.01      0.01    748.96      1.00\n",
            "                  intercept      0.60      0.88      0.59     -0.81      2.00    263.43      1.00\n",
            "       peak_effect_delay[0]      0.32      0.19      0.31      0.00      0.55    585.41      1.00\n",
            "       peak_effect_delay[1]      1.09      1.16      0.64      0.00      2.83    559.48      1.00\n",
            "       peak_effect_delay[2]      0.33      0.44      0.24      0.00      0.64    323.11      1.00\n",
            "                      sigma      0.03      0.00      0.03      0.03      0.03    472.54      1.00\n",
            "\n",
            "Number of divergences: 0\n"
          ]
        }
      ],
      "source": [
        "mmm.print_summary()"
      ]
    },
    {
      "cell_type": "markdown",
      "metadata": {
        "id": "7npbmDKfKNMX"
      },
      "source": [
        "We can visualise the posterior distributions of the media effects:"
      ]
    },
    {
      "cell_type": "code",
      "execution_count": null,
      "metadata": {
        "colab": {
          "height": 730
        },
        "executionInfo": {
          "elapsed": 940,
          "status": "ok",
          "timestamp": 1645778992395,
          "user": {
            "displayName": "",
            "photoUrl": "",
            "userId": ""
          },
          "user_tz": 0
        },
        "id": "BpqYqFNqKNTc",
        "outputId": "cf6bb6af-ece0-4815-da5a-3358bdb6a923"
      },
      "outputs": [
        {
          "data": {
            "image/png": "[encoded data removed]",
            "text/plain": [
              "\u003cFigure size 1000x1000 with 3 Axes\u003e"
            ]
          },
          "execution_count": 39,
          "metadata": {},
          "output_type": "execute_result"
        }
      ],
      "source": [
        "plot.plot_media_channel_posteriors(media_mix_model=mmm)"
      ]
    },
    {
      "cell_type": "markdown",
      "metadata": {
        "id": "AwgyS0W-KNbx"
      },
      "source": [
        "One can also check your model's fit to the training data."
      ]
    },
    {
      "cell_type": "code",
      "execution_count": null,
      "metadata": {
        "colab": {
          "height": 311
        },
        "executionInfo": {
          "elapsed": 904,
          "status": "ok",
          "timestamp": 1645778993505,
          "user": {
            "displayName": "",
            "photoUrl": "",
            "userId": ""
          },
          "user_tz": 0
        },
        "id": "tw-TF20IKNi5",
        "outputId": "7e50868a-7713-4589-8be2-6d214472769e"
      },
      "outputs": [
        {
          "data": {
            "image/png": "[encoded data removed]",
            "text/plain": [
              "\u003cFigure size 600x400 with 1 Axes\u003e"
            ]
          },
          "execution_count": 40,
          "metadata": {},
          "output_type": "execute_result"
        }
      ],
      "source": [
        "# Here is another example where we can pass the target scaler if you want the plot to be in the \"not scaled scale\"\n",
        "plot.plot_model_fit(mmm, target_scaler=target_scaler)"
      ]
    },
    {
      "cell_type": "markdown",
      "metadata": {
        "id": "4v50_s1sKNrN"
      },
      "source": [
        "If one wants to run predictions on unseen data they can rely on the `predict`\n",
        "method:"
      ]
    },
    {
      "cell_type": "code",
      "execution_count": null,
      "metadata": {
        "executionInfo": {
          "elapsed": 3957,
          "status": "ok",
          "timestamp": 1645778997645,
          "user": {
            "displayName": "",
            "photoUrl": "",
            "userId": ""
          },
          "user_tz": 0
        },
        "id": "yQuUUolAKN0W",
        "outputId": "636af4f3-2c02-46da-ff24-22149ebfd3da"
      },
      "outputs": [
        {
          "data": {
            "text/plain": [
              "(2000, 13)"
            ]
          },
          "execution_count": 41,
          "metadata": {},
          "output_type": "execute_result"
        }
      ],
      "source": [
        "# We have to scale the test media data if we have not done so before.\n",
        "new_predictions = mmm.predict(media=media_scaler.transform(media_data_test),\n",
        "                              extra_features=extra_features_scaler.transform(extra_features_test),\n",
        "                              seed=SEED)\n",
        "new_predictions.shape"
      ]
    },
    {
      "cell_type": "code",
      "execution_count": null,
      "metadata": {
        "colab": {
          "height": 311
        },
        "executionInfo": {
          "elapsed": 503,
          "status": "ok",
          "timestamp": 1645778998266,
          "user": {
            "displayName": "",
            "photoUrl": "",
            "userId": ""
          },
          "user_tz": 0
        },
        "id": "e0a9JyiMKN8q",
        "outputId": "4e1187dc-2f9d-48de-d21f-8b30dc56a4dc"
      },
      "outputs": [
        {
          "data": {
            "image/png": "[encoded data removed]",
            "text/plain": [
              "\u003cFigure size 600x400 with 1 Axes\u003e"
            ]
          },
          "execution_count": 42,
          "metadata": {},
          "output_type": "execute_result"
        }
      ],
      "source": [
        "plot.plot_out_of_sample_model_fit(out_of_sample_predictions=new_predictions,\n",
        "                                 out_of_sample_target=target_scaler.transform(target[split_point:]))"
      ]
    },
    {
      "cell_type": "markdown",
      "metadata": {
        "id": "MDMW2Pe-KOEm"
      },
      "source": [
        "### Media insights"
      ]
    },
    {
      "cell_type": "code",
      "execution_count": null,
      "metadata": {
        "id": "qQUnoKKQKONT"
      },
      "outputs": [],
      "source": [
        "preds, media_effect, roi_hat = mmm.get_posterior_metrics(target_scaler=target_scaler, cost_scaler=cost_scaler)"
      ]
    },
    {
      "cell_type": "markdown",
      "metadata": {
        "id": "szhjLnpHKOWc"
      },
      "source": [
        "We can quickly visualise the estimated media effects with their respective\n",
        "credibility intervals"
      ]
    },
    {
      "cell_type": "code",
      "execution_count": null,
      "metadata": {
        "colab": {
          "height": 296
        },
        "executionInfo": {
          "elapsed": 201,
          "status": "ok",
          "timestamp": 1645778998790,
          "user": {
            "displayName": "",
            "photoUrl": "",
            "userId": ""
          },
          "user_tz": 0
        },
        "id": "Hi3nJDE8KOfk",
        "outputId": "cd0d70a2-b3f5-4ff0-ca38-af027f2178ed"
      },
      "outputs": [
        {
          "data": {
            "image/png": "[encoded data removed]",
            "text/plain": [
              "\u003cFigure size 600x400 with 1 Axes\u003e"
            ]
          },
          "execution_count": 44,
          "metadata": {},
          "output_type": "execute_result"
        }
      ],
      "source": [
        "plot.plot_bars_media_metrics(metric=media_effect, metric_name=\"Media Effect\")"
      ]
    },
    {
      "cell_type": "code",
      "execution_count": null,
      "metadata": {
        "colab": {
          "height": 296
        },
        "executionInfo": {
          "elapsed": 240,
          "status": "ok",
          "timestamp": 1645778999204,
          "user": {
            "displayName": "",
            "photoUrl": "",
            "userId": ""
          },
          "user_tz": 0
        },
        "id": "oC82BdUJKOoT",
        "outputId": "73e7ee6a-3e49-4396-cfbb-7f02e95d46b6"
      },
      "outputs": [
        {
          "data": {
            "image/png": "[encoded data removed]",
            "text/plain": [
              "\u003cFigure size 600x400 with 1 Axes\u003e"
            ]
          },
          "execution_count": 45,
          "metadata": {},
          "output_type": "execute_result"
        }
      ],
      "source": [
        "plot.plot_bars_media_metrics(metric=roi_hat, metric_name=\"ROI hat\")"
      ]
    },
    {
      "cell_type": "markdown",
      "metadata": {
        "id": "TR_m4DvmKOx0"
      },
      "source": [
        "Another vital question we can solve with MMMs is how each media channel behaves\n",
        "individually as we invest more in it.\n",
        "\n",
        "For that we can plot the curve response of all media channels with the following\n",
        "function:"
      ]
    },
    {
      "cell_type": "code",
      "execution_count": null,
      "metadata": {
        "colab": {
          "height": 1000
        },
        "executionInfo": {
          "elapsed": 8093,
          "status": "ok",
          "timestamp": 1645779007461,
          "user": {
            "displayName": "",
            "photoUrl": "",
            "userId": ""
          },
          "user_tz": 0
        },
        "id": "w6DfZdyUKO6k",
        "outputId": "d64559d8-1b8f-4b96-f229-caea69cfdabd"
      },
      "outputs": [
        {
          "data": {
            "image/png": "[encoded data removed]",
            "text/plain": [
              "\u003cFigure size 1000x1400 with 4 Axes\u003e"
            ]
          },
          "execution_count": 46,
          "metadata": {},
          "output_type": "execute_result"
        }
      ],
      "source": [
        "plot.plot_response_curves(\n",
        "    media_mix_model=mmm, target_scaler=target_scaler, seed=SEED)"
      ]
    },
    {
      "cell_type": "markdown",
      "metadata": {
        "id": "qNEQkwvZKPDR"
      },
      "source": [
        "### Optimization"
      ]
    },
    {
      "cell_type": "markdown",
      "metadata": {
        "id": "0IslzAcNKPLO"
      },
      "source": [
        "The optimization is meant to solve the budget allocation questions for you.\n",
        "First you need to provide for how long you want to optimize your budget (eg. 15\n",
        "weeks in this case)."
      ]
    },
    {
      "cell_type": "markdown",
      "metadata": {
        "id": "ULQZGNMlKPT6"
      },
      "source": [
        "The optimization values will be bounded by +- 20% of the max and min historic\n",
        "values used for training. Which means the optimization won't recommend to\n",
        "completely change your strategy but how to make some budget re-allocation.\n",
        "\n",
        "You can change that percentage with the following parameters: -\n",
        "bounds_lower_pct - bounds_upper_pct\n",
        "\n",
        "Which can hold 1 value for all channels or 1 value per channel."
      ]
    },
    {
      "cell_type": "markdown",
      "metadata": {
        "id": "xDw5WtooKPde"
      },
      "source": [
        "Prices are the average price you would expect for the media units of each\n",
        "channel. If your data is already a money unit (eg. $) your prices should be an\n",
        "array of 1s."
      ]
    },
    {
      "cell_type": "code",
      "execution_count": null,
      "metadata": {
        "id": "t3TaoXYjKPmr"
      },
      "outputs": [],
      "source": [
        "prices = jnp.ones(mmm.n_media_channels)"
      ]
    },
    {
      "cell_type": "markdown",
      "metadata": {
        "id": "yF6JjbqPKP2R"
      },
      "source": [
        "The budget is how much one would like to allocate throughtout the total of\n",
        "`n_time_periods`. Make sure this amount is inline with the historic spend or\n",
        "otherwise some conditions/bounds in the optimization might not be met."
      ]
    },
    {
      "cell_type": "code",
      "execution_count": null,
      "metadata": {
        "id": "ReGi5AGTL86q"
      },
      "outputs": [],
      "source": [
        "n_time_periods = 10\n",
        "budget = jnp.sum(media_data.mean(axis=0)) * n_time_periods"
      ]
    },
    {
      "cell_type": "code",
      "execution_count": null,
      "metadata": {
        "executionInfo": {
          "elapsed": 17679,
          "status": "ok",
          "timestamp": 1645779025604,
          "user": {
            "displayName": "",
            "photoUrl": "",
            "userId": ""
          },
          "user_tz": 0
        },
        "id": "qtt9L4aPL-cs",
        "outputId": "58bdcbfb-a068-4df4-b2c4-d2c71d09a385"
      },
      "outputs": [
        {
          "name": "stdout",
          "output_type": "stream",
          "text": [
            "Optimization terminated successfully.    (Exit mode 0)\n",
            "            Current function value: -717.8498331992837\n",
            "            Iterations: 11\n",
            "            Function evaluations: 55\n",
            "            Gradient evaluations: 11\n"
          ]
        }
      ],
      "source": [
        "# Run optimization with the parameters of choice.\n",
        "solution = optimize_media.find_optimal_budgets(\n",
        "    n_time_periods=n_time_periods,\n",
        "    media_mix_model=mmm,\n",
        "    extra_features=extra_features_scaler.transform(extra_features_test)[:n_time_periods],\n",
        "    budget=budget,\n",
        "    prices=prices,\n",
        "    media_scaler=media_scaler,\n",
        "    target_scaler=target_scaler,\n",
        "    seed=SEED)"
      ]
    },
    {
      "cell_type": "code",
      "execution_count": null,
      "metadata": {
        "executionInfo": {
          "elapsed": 72,
          "status": "ok",
          "timestamp": 1645779025803,
          "user": {
            "displayName": "",
            "photoUrl": "",
            "userId": ""
          },
          "user_tz": 0
        },
        "id": "C2FIJu82MAk9",
        "outputId": "3892452a-a89e-4bf3-b9b3-905a014733f1"
      },
      "outputs": [
        {
          "data": {
            "text/plain": [
              "array([297.28488159, 125.17815399, 176.86386871])"
            ]
          },
          "execution_count": 50,
          "metadata": {},
          "output_type": "execute_result"
        }
      ],
      "source": [
        "# Obtain the optimal weekly allocation.\n",
        "optimal_buget_allocation = solution.x\n",
        "optimal_buget_allocation"
      ]
    },
    {
      "cell_type": "code",
      "execution_count": null,
      "metadata": {
        "executionInfo": {
          "elapsed": 65,
          "status": "ok",
          "timestamp": 1645779025981,
          "user": {
            "displayName": "",
            "photoUrl": "",
            "userId": ""
          },
          "user_tz": 0
        },
        "id": "XS1rHOfaMCBt",
        "outputId": "7cb29a14-550c-4126-c52d-a69915c6f740"
      },
      "outputs": [
        {
          "data": {
            "text/plain": [
              "(DeviceArray(599.3269, dtype=float32), 599.326904296875)"
            ]
          },
          "execution_count": 51,
          "metadata": {},
          "output_type": "execute_result"
        }
      ],
      "source": [
        "# Both values should be very close in order to compare KPI\n",
        "budget, optimal_buget_allocation.sum()"
      ]
    },
    {
      "cell_type": "markdown",
      "metadata": {
        "id": "LvMc28XKMEt_"
      },
      "source": [
        "We can double check the budget constraint was met:"
      ]
    },
    {
      "cell_type": "code",
      "execution_count": null,
      "metadata": {
        "executionInfo": {
          "elapsed": 11,
          "status": "ok",
          "timestamp": 1645779026116,
          "user": {
            "displayName": "",
            "photoUrl": "",
            "userId": ""
          },
          "user_tz": 0
        },
        "id": "ffZl2W-pMFrD",
        "outputId": "b85bd59f-c5b3-42ea-d278-e6531604b7e4"
      },
      "outputs": [
        {
          "data": {
            "text/plain": [
              "(DeviceArray(599.3269, dtype=float32), DeviceArray(599.3269, dtype=float32))"
            ]
          },
          "execution_count": 52,
          "metadata": {},
          "output_type": "execute_result"
        }
      ],
      "source": [
        "# Both numbers should be almost equal\n",
        "budget, jnp.sum(solution.x * prices)"
      ]
    },
    {
      "cell_type": "markdown",
      "metadata": {
        "id": "o3UbFu9VSRq9"
      },
      "source": [
        "## Saving the model to disk"
      ]
    },
    {
      "cell_type": "code",
      "execution_count": null,
      "metadata": {
        "id": "g5SxNNBRPs6n"
      },
      "outputs": [],
      "source": [
        "# We can use the utilities for saving models to disk.\n",
        "file_path = \"media_mix_model.pkl\"\n",
        "utils.save_model(media_mix_model=mmm, file_path=file_path)"
      ]
    },
    {
      "cell_type": "code",
      "execution_count": null,
      "metadata": {
        "executionInfo": {
          "elapsed": 70,
          "status": "ok",
          "timestamp": 1645779026502,
          "user": {
            "displayName": "",
            "photoUrl": "",
            "userId": ""
          },
          "user_tz": 0
        },
        "id": "74Fx-1N4HQsJ",
        "outputId": "8f0e6af2-f2f3-4aa8-9c32-62764d6cca55"
      },
      "outputs": [
        {
          "data": {
            "text/plain": [
              "(2000, 3)"
            ]
          },
          "execution_count": 54,
          "metadata": {},
          "output_type": "execute_result"
        }
      ],
      "source": [
        "# Once saved one can load the models.\n",
        "loaded_mmm = utils.load_model(file_path=file_path)\n",
        "loaded_mmm.trace[\"beta_media\"].shape # Example of accessing any of the model values."
      ]
    }
  ],
  "metadata": {
    "colab": {
      "collapsed_sections": [],
      "last_runtime": {
        "build_target": "//learning/deepmind/public/tools/ml_python:ml_notebook",
        "kind": "private"
      },
      "name": "simple_end_to_end_demo.ipynb",
      "provenance": [
        {
          "file_id": "1pa-fx5Uxyj9IiEM02BmGZD3OkTAu7RPw",
          "timestamp": 1643805668822
        }
      ]
    },
    "kernelspec": {
      "display_name": "Python 3",
      "name": "python3"
    },
    "language_info": {
      "name": "python"
    },
    "widgets": {
      "application/vnd.jupyter.widget-state+json": {
        "05948567a6d6467681fa2acbd7acccf6": {
          "model_module": "@jupyter-widgets/base",
          "model_module_version": "1.2.0",
          "model_name": "LayoutModel",
          "state": {
            "_model_module": "@jupyter-widgets/base",
            "_model_module_version": "1.2.0",
            "_model_name": "LayoutModel",
            "_view_count": null,
            "_view_module": "@jupyter-widgets/base",
            "_view_module_version": "1.2.0",
            "_view_name": "LayoutView",
            "align_content": null,
            "align_items": null,
            "align_self": null,
            "border": null,
            "bottom": null,
            "display": null,
            "flex": null,
            "flex_flow": null,
            "grid_area": null,
            "grid_auto_columns": null,
            "grid_auto_flow": null,
            "grid_auto_rows": null,
            "grid_column": null,
            "grid_gap": null,
            "grid_row": null,
            "grid_template_areas": null,
            "grid_template_columns": null,
            "grid_template_rows": null,
            "height": null,
            "justify_content": null,
            "justify_items": null,
            "left": null,
            "margin": null,
            "max_height": null,
            "max_width": null,
            "min_height": null,
            "min_width": null,
            "object_fit": null,
            "object_position": null,
            "order": null,
            "overflow": null,
            "overflow_x": null,
            "overflow_y": null,
            "padding": null,
            "right": null,
            "top": null,
            "visibility": null,
            "width": null
          }
        },
        "0e6e3eb825614bd4afb67f42e83f5316": {
          "model_module": "@jupyter-widgets/controls",
          "model_module_version": "1.5.0",
          "model_name": "DescriptionStyleModel",
          "state": {
            "_model_module": "@jupyter-widgets/controls",
            "_model_module_version": "1.5.0",
            "_model_name": "DescriptionStyleModel",
            "_view_count": null,
            "_view_module": "@jupyter-widgets/base",
            "_view_module_version": "1.2.0",
            "_view_name": "StyleView",
            "description_width": ""
          }
        },
        "3287685d261d4801a2a91b46f6f0b497": {
          "model_module": "@jupyter-widgets/controls",
          "model_module_version": "1.5.0",
          "model_name": "HTMLModel",
          "state": {
            "_dom_classes": [],
            "_model_module": "@jupyter-widgets/controls",
            "_model_module_version": "1.5.0",
            "_model_name": "HTMLModel",
            "_view_count": null,
            "_view_module": "@jupyter-widgets/controls",
            "_view_module_version": "1.5.0",
            "_view_name": "HTMLView",
            "description": "",
            "description_tooltip": null,
            "layout": "IPY_MODEL_a4915535949b430e959bbd6297dec432",
            "placeholder": "​",
            "style": "IPY_MODEL_0e6e3eb825614bd4afb67f42e83f5316",
            "value": " 2000/2000 [02:52\u0026lt;00:00, 19.01it/s]"
          }
        },
        "342fc81c019a412a9eb4227f7b7b7626": {
          "model_module": "@jupyter-widgets/controls",
          "model_module_version": "1.5.0",
          "model_name": "HTMLModel",
          "state": {
            "_dom_classes": [],
            "_model_module": "@jupyter-widgets/controls",
            "_model_module_version": "1.5.0",
            "_model_name": "HTMLModel",
            "_view_count": null,
            "_view_module": "@jupyter-widgets/controls",
            "_view_module_version": "1.5.0",
            "_view_name": "HTMLView",
            "description": "",
            "description_tooltip": null,
            "layout": "IPY_MODEL_05948567a6d6467681fa2acbd7acccf6",
            "placeholder": "​",
            "style": "IPY_MODEL_fe400cd9f1b0474896d0e326c0d9b8d0",
            "value": " 2000/2000 [02:52\u0026lt;00:00, 18.81it/s]"
          }
        },
        "499a74a0c9e4441f932a30632166be87": {
          "model_module": "@jupyter-widgets/base",
          "model_module_version": "1.2.0",
          "model_name": "LayoutModel",
          "state": {
            "_model_module": "@jupyter-widgets/base",
            "_model_module_version": "1.2.0",
            "_model_name": "LayoutModel",
            "_view_count": null,
            "_view_module": "@jupyter-widgets/base",
            "_view_module_version": "1.2.0",
            "_view_name": "LayoutView",
            "align_content": null,
            "align_items": null,
            "align_self": null,
            "border": null,
            "bottom": null,
            "display": null,
            "flex": null,
            "flex_flow": null,
            "grid_area": null,
            "grid_auto_columns": null,
            "grid_auto_flow": null,
            "grid_auto_rows": null,
            "grid_column": null,
            "grid_gap": null,
            "grid_row": null,
            "grid_template_areas": null,
            "grid_template_columns": null,
            "grid_template_rows": null,
            "height": null,
            "justify_content": null,
            "justify_items": null,
            "left": null,
            "margin": null,
            "max_height": null,
            "max_width": null,
            "min_height": null,
            "min_width": null,
            "object_fit": null,
            "object_position": null,
            "order": null,
            "overflow": null,
            "overflow_x": null,
            "overflow_y": null,
            "padding": null,
            "right": null,
            "top": null,
            "visibility": null,
            "width": null
          }
        },
        "5e2afd0acd5646b396a1f6aaa75f523a": {
          "model_module": "@jupyter-widgets/controls",
          "model_module_version": "1.5.0",
          "model_name": "DescriptionStyleModel",
          "state": {
            "_model_module": "@jupyter-widgets/controls",
            "_model_module_version": "1.5.0",
            "_model_name": "DescriptionStyleModel",
            "_view_count": null,
            "_view_module": "@jupyter-widgets/base",
            "_view_module_version": "1.2.0",
            "_view_name": "StyleView",
            "description_width": ""
          }
        },
        "64376ebe3b1c4002b1147e07068f2f75": {
          "model_module": "@jupyter-widgets/base",
          "model_module_version": "1.2.0",
          "model_name": "LayoutModel",
          "state": {
            "_model_module": "@jupyter-widgets/base",
            "_model_module_version": "1.2.0",
            "_model_name": "LayoutModel",
            "_view_count": null,
            "_view_module": "@jupyter-widgets/base",
            "_view_module_version": "1.2.0",
            "_view_name": "LayoutView",
            "align_content": null,
            "align_items": null,
            "align_self": null,
            "border": null,
            "bottom": null,
            "display": null,
            "flex": null,
            "flex_flow": null,
            "grid_area": null,
            "grid_auto_columns": null,
            "grid_auto_flow": null,
            "grid_auto_rows": null,
            "grid_column": null,
            "grid_gap": null,
            "grid_row": null,
            "grid_template_areas": null,
            "grid_template_columns": null,
            "grid_template_rows": null,
            "height": null,
            "justify_content": null,
            "justify_items": null,
            "left": null,
            "margin": null,
            "max_height": null,
            "max_width": null,
            "min_height": null,
            "min_width": null,
            "object_fit": null,
            "object_position": null,
            "order": null,
            "overflow": null,
            "overflow_x": null,
            "overflow_y": null,
            "padding": null,
            "right": null,
            "top": null,
            "visibility": null,
            "width": null
          }
        },
        "86f43ee3569c4badab6821395c37cae1": {
          "model_module": "@jupyter-widgets/controls",
          "model_module_version": "1.5.0",
          "model_name": "HTMLModel",
          "state": {
            "_dom_classes": [],
            "_model_module": "@jupyter-widgets/controls",
            "_model_module_version": "1.5.0",
            "_model_name": "HTMLModel",
            "_view_count": null,
            "_view_module": "@jupyter-widgets/controls",
            "_view_module_version": "1.5.0",
            "_view_name": "HTMLView",
            "description": "",
            "description_tooltip": null,
            "layout": "IPY_MODEL_499a74a0c9e4441f932a30632166be87",
            "placeholder": "​",
            "style": "IPY_MODEL_b671839e7bdb43269994664e676a2d54",
            "value": "Running chain 1: 100%"
          }
        },
        "8924548fb6af4e29a7319b42c2625537": {
          "model_module": "@jupyter-widgets/base",
          "model_module_version": "1.2.0",
          "model_name": "LayoutModel",
          "state": {
            "_model_module": "@jupyter-widgets/base",
            "_model_module_version": "1.2.0",
            "_model_name": "LayoutModel",
            "_view_count": null,
            "_view_module": "@jupyter-widgets/base",
            "_view_module_version": "1.2.0",
            "_view_name": "LayoutView",
            "align_content": null,
            "align_items": null,
            "align_self": null,
            "border": null,
            "bottom": null,
            "display": null,
            "flex": null,
            "flex_flow": null,
            "grid_area": null,
            "grid_auto_columns": null,
            "grid_auto_flow": null,
            "grid_auto_rows": null,
            "grid_column": null,
            "grid_gap": null,
            "grid_row": null,
            "grid_template_areas": null,
            "grid_template_columns": null,
            "grid_template_rows": null,
            "height": null,
            "justify_content": null,
            "justify_items": null,
            "left": null,
            "margin": null,
            "max_height": null,
            "max_width": null,
            "min_height": null,
            "min_width": null,
            "object_fit": null,
            "object_position": null,
            "order": null,
            "overflow": null,
            "overflow_x": null,
            "overflow_y": null,
            "padding": null,
            "right": null,
            "top": null,
            "visibility": null,
            "width": null
          }
        },
        "9603d992cfcb4c28be305aa639d9adc9": {
          "model_module": "@jupyter-widgets/base",
          "model_module_version": "1.2.0",
          "model_name": "LayoutModel",
          "state": {
            "_model_module": "@jupyter-widgets/base",
            "_model_module_version": "1.2.0",
            "_model_name": "LayoutModel",
            "_view_count": null,
            "_view_module": "@jupyter-widgets/base",
            "_view_module_version": "1.2.0",
            "_view_name": "LayoutView",
            "align_content": null,
            "align_items": null,
            "align_self": null,
            "border": null,
            "bottom": null,
            "display": null,
            "flex": null,
            "flex_flow": null,
            "grid_area": null,
            "grid_auto_columns": null,
            "grid_auto_flow": null,
            "grid_auto_rows": null,
            "grid_column": null,
            "grid_gap": null,
            "grid_row": null,
            "grid_template_areas": null,
            "grid_template_columns": null,
            "grid_template_rows": null,
            "height": null,
            "justify_content": null,
            "justify_items": null,
            "left": null,
            "margin": null,
            "max_height": null,
            "max_width": null,
            "min_height": null,
            "min_width": null,
            "object_fit": null,
            "object_position": null,
            "order": null,
            "overflow": null,
            "overflow_x": null,
            "overflow_y": null,
            "padding": null,
            "right": null,
            "top": null,
            "visibility": null,
            "width": null
          }
        },
        "a2aaa7d98ebb43d1bc4388094c118b29": {
          "model_module": "@jupyter-widgets/controls",
          "model_module_version": "1.5.0",
          "model_name": "ProgressStyleModel",
          "state": {
            "_model_module": "@jupyter-widgets/controls",
            "_model_module_version": "1.5.0",
            "_model_name": "ProgressStyleModel",
            "_view_count": null,
            "_view_module": "@jupyter-widgets/base",
            "_view_module_version": "1.2.0",
            "_view_name": "StyleView",
            "bar_color": null,
            "description_width": ""
          }
        },
        "a4915535949b430e959bbd6297dec432": {
          "model_module": "@jupyter-widgets/base",
          "model_module_version": "1.2.0",
          "model_name": "LayoutModel",
          "state": {
            "_model_module": "@jupyter-widgets/base",
            "_model_module_version": "1.2.0",
            "_model_name": "LayoutModel",
            "_view_count": null,
            "_view_module": "@jupyter-widgets/base",
            "_view_module_version": "1.2.0",
            "_view_name": "LayoutView",
            "align_content": null,
            "align_items": null,
            "align_self": null,
            "border": null,
            "bottom": null,
            "display": null,
            "flex": null,
            "flex_flow": null,
            "grid_area": null,
            "grid_auto_columns": null,
            "grid_auto_flow": null,
            "grid_auto_rows": null,
            "grid_column": null,
            "grid_gap": null,
            "grid_row": null,
            "grid_template_areas": null,
            "grid_template_columns": null,
            "grid_template_rows": null,
            "height": null,
            "justify_content": null,
            "justify_items": null,
            "left": null,
            "margin": null,
            "max_height": null,
            "max_width": null,
            "min_height": null,
            "min_width": null,
            "object_fit": null,
            "object_position": null,
            "order": null,
            "overflow": null,
            "overflow_x": null,
            "overflow_y": null,
            "padding": null,
            "right": null,
            "top": null,
            "visibility": null,
            "width": null
          }
        },
        "ac358068a930465c999f770187ecf097": {
          "model_module": "@jupyter-widgets/base",
          "model_module_version": "1.2.0",
          "model_name": "LayoutModel",
          "state": {
            "_model_module": "@jupyter-widgets/base",
            "_model_module_version": "1.2.0",
            "_model_name": "LayoutModel",
            "_view_count": null,
            "_view_module": "@jupyter-widgets/base",
            "_view_module_version": "1.2.0",
            "_view_name": "LayoutView",
            "align_content": null,
            "align_items": null,
            "align_self": null,
            "border": null,
            "bottom": null,
            "display": null,
            "flex": null,
            "flex_flow": null,
            "grid_area": null,
            "grid_auto_columns": null,
            "grid_auto_flow": null,
            "grid_auto_rows": null,
            "grid_column": null,
            "grid_gap": null,
            "grid_row": null,
            "grid_template_areas": null,
            "grid_template_columns": null,
            "grid_template_rows": null,
            "height": null,
            "justify_content": null,
            "justify_items": null,
            "left": null,
            "margin": null,
            "max_height": null,
            "max_width": null,
            "min_height": null,
            "min_width": null,
            "object_fit": null,
            "object_position": null,
            "order": null,
            "overflow": null,
            "overflow_x": null,
            "overflow_y": null,
            "padding": null,
            "right": null,
            "top": null,
            "visibility": null,
            "width": null
          }
        },
        "b671839e7bdb43269994664e676a2d54": {
          "model_module": "@jupyter-widgets/controls",
          "model_module_version": "1.5.0",
          "model_name": "DescriptionStyleModel",
          "state": {
            "_model_module": "@jupyter-widgets/controls",
            "_model_module_version": "1.5.0",
            "_model_name": "DescriptionStyleModel",
            "_view_count": null,
            "_view_module": "@jupyter-widgets/base",
            "_view_module_version": "1.2.0",
            "_view_name": "StyleView",
            "description_width": ""
          }
        },
        "c059c186b0ea4d98860fe5b2f8a2c5d3": {
          "model_module": "@jupyter-widgets/base",
          "model_module_version": "1.2.0",
          "model_name": "LayoutModel",
          "state": {
            "_model_module": "@jupyter-widgets/base",
            "_model_module_version": "1.2.0",
            "_model_name": "LayoutModel",
            "_view_count": null,
            "_view_module": "@jupyter-widgets/base",
            "_view_module_version": "1.2.0",
            "_view_name": "LayoutView",
            "align_content": null,
            "align_items": null,
            "align_self": null,
            "border": null,
            "bottom": null,
            "display": null,
            "flex": null,
            "flex_flow": null,
            "grid_area": null,
            "grid_auto_columns": null,
            "grid_auto_flow": null,
            "grid_auto_rows": null,
            "grid_column": null,
            "grid_gap": null,
            "grid_row": null,
            "grid_template_areas": null,
            "grid_template_columns": null,
            "grid_template_rows": null,
            "height": null,
            "justify_content": null,
            "justify_items": null,
            "left": null,
            "margin": null,
            "max_height": null,
            "max_width": null,
            "min_height": null,
            "min_width": null,
            "object_fit": null,
            "object_position": null,
            "order": null,
            "overflow": null,
            "overflow_x": null,
            "overflow_y": null,
            "padding": null,
            "right": null,
            "top": null,
            "visibility": null,
            "width": null
          }
        },
        "c8eaec1f54f44515a8a2321a6b5bb7eb": {
          "model_module": "@jupyter-widgets/controls",
          "model_module_version": "1.5.0",
          "model_name": "FloatProgressModel",
          "state": {
            "_dom_classes": [],
            "_model_module": "@jupyter-widgets/controls",
            "_model_module_version": "1.5.0",
            "_model_name": "FloatProgressModel",
            "_view_count": null,
            "_view_module": "@jupyter-widgets/controls",
            "_view_module_version": "1.5.0",
            "_view_name": "ProgressView",
            "bar_style": "success",
            "description": "",
            "description_tooltip": null,
            "layout": "IPY_MODEL_c059c186b0ea4d98860fe5b2f8a2c5d3",
            "max": 2000,
            "min": 0,
            "orientation": "horizontal",
            "style": "IPY_MODEL_a2aaa7d98ebb43d1bc4388094c118b29",
            "value": 2000
          }
        },
        "d285fb32d6064955b74af1c378a3cca8": {
          "model_module": "@jupyter-widgets/controls",
          "model_module_version": "1.5.0",
          "model_name": "HBoxModel",
          "state": {
            "_dom_classes": [],
            "_model_module": "@jupyter-widgets/controls",
            "_model_module_version": "1.5.0",
            "_model_name": "HBoxModel",
            "_view_count": null,
            "_view_module": "@jupyter-widgets/controls",
            "_view_module_version": "1.5.0",
            "_view_name": "HBoxView",
            "box_style": "",
            "children": [
              "IPY_MODEL_f9512e7997f44bd2b0234b8c399051fe",
              "IPY_MODEL_c8eaec1f54f44515a8a2321a6b5bb7eb",
              "IPY_MODEL_342fc81c019a412a9eb4227f7b7b7626"
            ],
            "layout": "IPY_MODEL_64376ebe3b1c4002b1147e07068f2f75"
          }
        },
        "de62fc6e90174df6a964a747f6705a84": {
          "model_module": "@jupyter-widgets/controls",
          "model_module_version": "1.5.0",
          "model_name": "ProgressStyleModel",
          "state": {
            "_model_module": "@jupyter-widgets/controls",
            "_model_module_version": "1.5.0",
            "_model_name": "ProgressStyleModel",
            "_view_count": null,
            "_view_module": "@jupyter-widgets/base",
            "_view_module_version": "1.2.0",
            "_view_name": "StyleView",
            "bar_color": null,
            "description_width": ""
          }
        },
        "e5842155739743faae98755e9c30200f": {
          "model_module": "@jupyter-widgets/controls",
          "model_module_version": "1.5.0",
          "model_name": "HBoxModel",
          "state": {
            "_dom_classes": [],
            "_model_module": "@jupyter-widgets/controls",
            "_model_module_version": "1.5.0",
            "_model_name": "HBoxModel",
            "_view_count": null,
            "_view_module": "@jupyter-widgets/controls",
            "_view_module_version": "1.5.0",
            "_view_name": "HBoxView",
            "box_style": "",
            "children": [
              "IPY_MODEL_86f43ee3569c4badab6821395c37cae1",
              "IPY_MODEL_e9ac0be3f3b840dcbcf850a6232d9958",
              "IPY_MODEL_3287685d261d4801a2a91b46f6f0b497"
            ],
            "layout": "IPY_MODEL_ac358068a930465c999f770187ecf097"
          }
        },
        "e9ac0be3f3b840dcbcf850a6232d9958": {
          "model_module": "@jupyter-widgets/controls",
          "model_module_version": "1.5.0",
          "model_name": "FloatProgressModel",
          "state": {
            "_dom_classes": [],
            "_model_module": "@jupyter-widgets/controls",
            "_model_module_version": "1.5.0",
            "_model_name": "FloatProgressModel",
            "_view_count": null,
            "_view_module": "@jupyter-widgets/controls",
            "_view_module_version": "1.5.0",
            "_view_name": "ProgressView",
            "bar_style": "success",
            "description": "",
            "description_tooltip": null,
            "layout": "IPY_MODEL_8924548fb6af4e29a7319b42c2625537",
            "max": 2000,
            "min": 0,
            "orientation": "horizontal",
            "style": "IPY_MODEL_de62fc6e90174df6a964a747f6705a84",
            "value": 2000
          }
        },
        "f9512e7997f44bd2b0234b8c399051fe": {
          "model_module": "@jupyter-widgets/controls",
          "model_module_version": "1.5.0",
          "model_name": "HTMLModel",
          "state": {
            "_dom_classes": [],
            "_model_module": "@jupyter-widgets/controls",
            "_model_module_version": "1.5.0",
            "_model_name": "HTMLModel",
            "_view_count": null,
            "_view_module": "@jupyter-widgets/controls",
            "_view_module_version": "1.5.0",
            "_view_name": "HTMLView",
            "description": "",
            "description_tooltip": null,
            "layout": "IPY_MODEL_9603d992cfcb4c28be305aa639d9adc9",
            "placeholder": "​",
            "style": "IPY_MODEL_5e2afd0acd5646b396a1f6aaa75f523a",
            "value": "Running chain 0: 100%"
          }
        },
        "fe400cd9f1b0474896d0e326c0d9b8d0": {
          "model_module": "@jupyter-widgets/controls",
          "model_module_version": "1.5.0",
          "model_name": "DescriptionStyleModel",
          "state": {
            "_model_module": "@jupyter-widgets/controls",
            "_model_module_version": "1.5.0",
            "_model_name": "DescriptionStyleModel",
            "_view_count": null,
            "_view_module": "@jupyter-widgets/base",
            "_view_module_version": "1.2.0",
            "_view_name": "StyleView",
            "description_width": ""
          }
        }
      }
    }
  },
  "nbformat": 4,
  "nbformat_minor": 0
}
